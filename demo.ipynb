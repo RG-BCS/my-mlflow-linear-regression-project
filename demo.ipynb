{
  "nbformat": 4,
  "nbformat_minor": 0,
  "metadata": {
    "colab": {
      "provenance": []
    },
    "kernelspec": {
      "name": "python3",
      "display_name": "Python 3"
    },
    "language_info": {
      "name": "python"
    }
  },
  "cells": [
    {
      "cell_type": "markdown",
      "source": [
        "# Custom Linear Regression Demo\n",
        "\n",
        "This notebook demonstrates the usage of the `LinearRegressionCustom` class, which implements linear regression with support for L1 and L2 regularization, early stopping, and gradient descent optimization.\n",
        "\n",
        "We will:\n",
        "\n",
        "- Load a housing dataset\n",
        "- Preprocess features and target variables\n",
        "- Train our custom linear regression model\n",
        "- Visualize training loss and regression fit\n",
        "- Compare predictions with scikit-learn's LinearRegression implementation"
      ],
      "metadata": {
        "id": "euJpslW2u9cK"
      }
    },
    {
      "cell_type": "code",
      "source": [
        "# Import necessary libraries\n",
        "import numpy as np\n",
        "import pandas as pd\n",
        "import matplotlib.pyplot as plt\n",
        "from sklearn.preprocessing import StandardScaler\n",
        "from sklearn.linear_model import LinearRegression\n",
        "from linear_regression_custom import LinearRegressionCustom, lin_regplot\n",
        "\n",
        "# Ensure plots appear inline in the notebook\n",
        "%matplotlib inline"
      ],
      "metadata": {
        "id": "ll_HxkiUvAEb"
      },
      "execution_count": null,
      "outputs": []
    },
    {
      "cell_type": "markdown",
      "source": [
        "## Load and Prepare Dataset\n",
        "\n",
        "We use the Ames Housing dataset focusing on a few relevant features for simplicity."
      ],
      "metadata": {
        "id": "S1r2tSPEvLun"
      }
    },
    {
      "cell_type": "code",
      "source": [
        "# Define columns of interest and load dataset\n",
        "columns = ['Overall Qual', 'Overall Cond', 'Gr Liv Area', 'Central Air', 'Total Bsmt SF', 'SalePrice']\n",
        "df = pd.read_csv('http://jse.amstat.org/v19n3/decock/AmesHousing.txt', sep='\\t', usecols=columns)\n",
        "\n",
        "# Feature and target extraction\n",
        "X = df[['Gr Liv Area']].values      # Living area square footage\n",
        "y = df['SalePrice'].values          # House price\n",
        "\n",
        "# Standardize features and targets for better convergence\n",
        "sc_x = StandardScaler()\n",
        "sc_y = StandardScaler()\n",
        "\n",
        "X_std = sc_x.fit_transform(X)\n",
        "y_std = sc_y.fit_transform(y[:, np.newaxis]).flatten()"
      ],
      "metadata": {
        "id": "6QXey8z0vN2B"
      },
      "execution_count": null,
      "outputs": []
    },
    {
      "cell_type": "markdown",
      "source": [
        "## Train Custom Linear Regression Model\n",
        "\n",
        "We train using standardized data to allow the gradient descent to converge smoothly.\n"
      ],
      "metadata": {
        "id": "DiVJf-gPvUPN"
      }
    },
    {
      "cell_type": "code",
      "source": [
        "# Initialize and fit the custom linear regression model\n",
        "lr = LinearRegressionCustom(n_iter=40, learning_rate=0.1, C=1000, penalty='l2', early_stopping=5)\n",
        "lr.fit(X_std, y_std)\n",
        "\n",
        "print(f\"Model parameters: weights = {lr.w_}, bias = {lr.b_}\")\n",
        "print(f\"Final training loss (MSE): {lr.losses_[-1]:.4f}\")"
      ],
      "metadata": {
        "id": "nm5VndymvZWB"
      },
      "execution_count": null,
      "outputs": []
    },
    {
      "cell_type": "markdown",
      "source": [
        "## Plot Training Loss Over Epochs"
      ],
      "metadata": {
        "id": "mvIGSCQVvcbd"
      }
    },
    {
      "cell_type": "code",
      "source": [
        "plt.figure(figsize=(6,3))\n",
        "plt.plot(lr.losses_, label='Training Loss (MSE)')\n",
        "plt.xlabel('Epoch')\n",
        "plt.ylabel('Loss')\n",
        "plt.title('Training Loss Over Epochs')\n",
        "plt.legend()\n",
        "plt.show()"
      ],
      "metadata": {
        "id": "Sg0GAgAgvh-P"
      },
      "execution_count": null,
      "outputs": []
    },
    {
      "cell_type": "markdown",
      "source": [
        "## Visualize Regression Fit on Standardized Data"
      ],
      "metadata": {
        "id": "yxk4QaucvoZR"
      }
    },
    {
      "cell_type": "code",
      "source": [
        "plt.figure(figsize=(6,4))\n",
        "lin_regplot(X_std, y_std, lr)\n",
        "plt.show()"
      ],
      "metadata": {
        "id": "IKUVvEdZvrKf"
      },
      "execution_count": null,
      "outputs": []
    },
    {
      "cell_type": "markdown",
      "source": [
        "## Compare with Scikit-learn's LinearRegression\n",
        "\n",
        "We also train scikit-learn's implementation on the raw data to compare weights and predictions."
      ],
      "metadata": {
        "id": "gl0FpZrTvxzo"
      }
    },
    {
      "cell_type": "code",
      "source": [
        "# Fit scikit-learn model on original data\n",
        "sklr = LinearRegression()\n",
        "sklr.fit(X, y)\n",
        "\n",
        "# Predict price for a house with 2500 sqft living area\n",
        "house_area = np.array([[2500]])\n",
        "\n",
        "# Custom model prediction (scaled back to original units)\n",
        "house_area_std = sc_x.transform(house_area)\n",
        "price_std_pred = lr.predict(house_area_std)\n",
        "price_pred = sc_y.inverse_transform(price_std_pred.reshape(-1,1))\n",
        "\n",
        "# sklearn prediction\n",
        "sk_price_pred = sklr.predict(house_area)\n",
        "\n",
        "print(f\"Custom model predicted sale price: ${price_pred.flatten()[0]:,.2f}\")\n",
        "print(f\"Sklearn model predicted sale price: ${sk_price_pred[0]:,.2f}\")\n",
        "\n",
        "print(f\"Custom model weights: {lr.w_}, bias: {lr.b_}\")\n",
        "print(f\"Sklearn model weights: {sklr.coef_}, bias: {sklr.intercept_}\""
      ],
      "metadata": {
        "id": "s-PQm62Qv0ws"
      },
      "execution_count": null,
      "outputs": []
    }
  ]
}